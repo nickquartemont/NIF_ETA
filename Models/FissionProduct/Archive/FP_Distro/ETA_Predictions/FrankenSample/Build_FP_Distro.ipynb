{
 "cells": [
  {
   "cell_type": "markdown",
   "metadata": {},
   "source": [
    "# FP Yield for Franken Sample\n",
    "\n",
    "This is the yield that would be estimated using the current franken sample approach, a average fission energy of 4.32 MeV (corresponding to the ETA TN+PFNS spectrum), and linear combination of the ENDF/B-VII.1 FP yield data for thermal and high energy neutrons."
   ]
  },
  {
   "cell_type": "code",
   "execution_count": 1,
   "metadata": {
    "collapsed": true
   },
   "outputs": [],
   "source": [
    "import os\n",
    "import sys\n",
    "\n",
    "import numpy as np\n",
    "from math import sqrt\n",
    "from collections import defaultdict\n",
    "\n",
    "sys.path.insert(0,os.path.abspath('../'))\n",
    "from FP_Utilities import Read_E_Bins, Build_Nagy_Weighted_FPs, Build_Spline_Weighted_FPs, Build_GEF_Weighted_FPs\n",
    "from FP_Utilities import Read_Fission_Spectrum, writeout, Build_Linear_Weighted_FPs\n",
    "\n",
    "rootdir=os.path.abspath(os.getcwd())"
   ]
  },
  {
   "cell_type": "code",
   "execution_count": 2,
   "metadata": {},
   "outputs": [
    {
     "name": "stdout",
     "output_type": "stream",
     "text": [
      "235 1.0\n"
     ]
    }
   ],
   "source": [
    "# Determine fission fraction by isotope\n",
    "# From ETA Ouput - Not explicitly required for program\n",
    "tot=1.32237E-05\n",
    "tot_235=1.32237E-05\n",
    "wf_235=1.0 \n",
    "\n",
    "print \"235\",tot_235/tot\n"
   ]
  },
  {
   "cell_type": "code",
   "execution_count": 3,
   "metadata": {
    "collapsed": true
   },
   "outputs": [],
   "source": [
    "# User Inputs\n",
    "#---------------------------------------------------------------------------------------#  \n",
    "fiss235Name = 'Data/E_fiss_235.csv'   # Fission spectra input file\n",
    "binsName = 'Data/Bins.csv'   # Bin structure input file\n",
    "fp235Name = 'Data/235_data.xlsx'  # 235 energy dependent data - must contain same isotopes as 238\n",
    "gef235Dir = '../../Validation/235Watt' # Path to GEF data\n",
    "\n",
    "f235 = 1.0       # fraction of fissions caused by 235 - f_235+f_238 should equal 1\n",
    "#---------------------------------------------------------------------------------------#  "
   ]
  },
  {
   "cell_type": "code",
   "execution_count": 4,
   "metadata": {},
   "outputs": [
    {
     "name": "stdout",
     "output_type": "stream",
     "text": [
      "{97: 5.722518, 99: 5.8070596999999999, 147: 2.0534232999999995, 133: 6.2810624999999991, 161: 0.0016889610000000001, 140: 5.6814102000000002, 141: 5.4249342999999994, 111: 0.34556687199999997, 113: 0.27645676899999999, 115: 0.34636635799999999, 151: 0.39976679000000004, 153: 0.17230898, 156: 0.028181264000000001, 95: 6.0910972000000001} {97: 1.1987576602146726, 99: 0.62156573487547551, 133: 25.371752228550903, 161: 3.9561780673939123e-07, 140: 0.49448374016947566, 141: 0.85453799716962808, 111: 0.0058004335483897215, 115: 0.0049060573587500012, 113: 0.016572613956559581, 147: 0.074688899839070289, 151: 0.013031357902193688, 153: 0.0032530104236859359, 156: 2.896986889538395e-05, 95: 0.67353061556550264}\n"
     ]
    }
   ],
   "source": [
    "### Linear ENDF Based Predictions ###\n",
    "\n",
    "# Read in the energy bin structure\n",
    "(lower_bins,upper_bins,bins)=Read_E_Bins(binsName)\n",
    "\n",
    "# Calculate 235 data\n",
    "(fiss_235_e,fiss_235)=Read_Fission_Spectrum(fiss235Name)\n",
    "y, err=Build_Linear_Weighted_FPs(fp235Name,bins,f235,fiss_235)\n",
    "\n",
    "# Ouput the data\n",
    "absErr = {}\n",
    "out = []\n",
    "for A in y.keys():\n",
    "    absErr[A]=err[A]*y[A]\n",
    "    out.append((A,y[A],absErr[A]))\n",
    "\n",
    "# Output Results\n",
    "print y, absErr\n",
    "writeout(\"FrankenSample_Linear_fy.csv\",sorted(out,key=lambda l:l[0]))"
   ]
  },
  {
   "cell_type": "code",
   "execution_count": 5,
   "metadata": {
    "scrolled": false
   },
   "outputs": [
    {
     "name": "stdout",
     "output_type": "stream",
     "text": [
      "\n",
      "\n",
      "WARNING: Not all of the files from ../../Validation/235Watt were imported.\n",
      "\n",
      "\n",
      "47 2 2\n"
     ]
    }
   ],
   "source": [
    "### GEF Based Predictions ###\n",
    "\n",
    "# Read in the energy bin structure\n",
    "(lower_bins,upper_bins,bins)=Read_E_Bins(binsName)\n",
    "\n",
    "# Calculate 235 data\n",
    "y={}\n",
    "err={}\n",
    "absErr={}\n",
    "\n",
    "(y,err)=Build_GEF_Weighted_FPs(bins,f235*fiss_235,gef235Dir)\n",
    "\n",
    "# Combine data into a single data set\n",
    "out=[]\n",
    "for A in y.keys():\n",
    "    try:\n",
    "        absErr[A]=y[A]*err[A]\n",
    "        out.append((A,y[A],err[A],absErr[A]))\n",
    "    except KeyError as e:\n",
    "        print \"Key error: {0} not found for both isotopes.\".format(A)\n",
    "\n",
    "# Output Results\n",
    "writeout(\"FrankenSample_GEF_fy.csv\",sorted(out,key=lambda l:l[0]))"
   ]
  },
  {
   "cell_type": "code",
   "execution_count": null,
   "metadata": {
    "collapsed": true
   },
   "outputs": [],
   "source": []
  }
 ],
 "metadata": {
  "kernelspec": {
   "display_name": "Python 2",
   "language": "python",
   "name": "python2"
  },
  "language_info": {
   "codemirror_mode": {
    "name": "ipython",
    "version": 2
   },
   "file_extension": ".py",
   "mimetype": "text/x-python",
   "name": "python",
   "nbconvert_exporter": "python",
   "pygments_lexer": "ipython2",
   "version": "2.7.13"
  }
 },
 "nbformat": 4,
 "nbformat_minor": 1
}
