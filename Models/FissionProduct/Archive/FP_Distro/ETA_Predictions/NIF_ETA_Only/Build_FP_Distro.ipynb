{
 "cells": [
  {
   "cell_type": "code",
   "execution_count": 1,
   "metadata": {
    "collapsed": true
   },
   "outputs": [],
   "source": [
    "import os\n",
    "import sys\n",
    "\n",
    "import numpy as np\n",
    "from math import sqrt\n",
    "from collections import defaultdict\n",
    "\n",
    "sys.path.insert(0,os.path.abspath('../'))\n",
    "from FP_Utilities import Read_E_Bins, Build_Nagy_Weighted_FPs, Build_Spline_Weighted_FPs, Build_GEF_Weighted_FPs\n",
    "from FP_Utilities import Read_Fission_Spectrum, writeout\n",
    "\n",
    "rootdir=os.path.abspath(os.getcwd())"
   ]
  },
  {
   "cell_type": "code",
   "execution_count": 2,
   "metadata": {},
   "outputs": [
    {
     "name": "stdout",
     "output_type": "stream",
     "text": [
      "235 0.976920226563\n",
      "238 0.0225349637393\n"
     ]
    }
   ],
   "source": [
    "# Determine fission fraction by isotope\n",
    "# From ETA Ouput - Not explicitly required for program\n",
    "tot=1.32237E-05\n",
    "tot_234=1.02627E-07\n",
    "tot_235=1.29185E-05\n",
    "tot_236=1.69356E-08\n",
    "tot_238=1.78433E-07\n",
    "wf_234=0.0093898\n",
    "wf_235=0.93217\n",
    "wf_236=0.003\n",
    "wf_238=0.05544\n",
    "print \"235\",tot_235/tot\n",
    "print \"238\",(tot_234+tot_236+tot_238)/tot   # 234 and 236 lumped with 238 because minor and threshold fissioners\n"
   ]
  },
  {
   "cell_type": "code",
   "execution_count": 3,
   "metadata": {
    "collapsed": true
   },
   "outputs": [],
   "source": [
    "# User Inputs\n",
    "#---------------------------------------------------------------------------------------#  \n",
    "fiss235Name = 'Data/E_fiss_235.csv'   # Fission spectra input file\n",
    "fiss238Name = 'Data/E_fiss_238.csv'   # Fission spectra input file\n",
    "binsName = 'Data/Bins.csv'   # Bin structure input file\n",
    "fp235Name = '../235_data.xlsx'  # 235 energy dependent data - must contain same isotopes as 238\n",
    "fp238Name = '../238_data.xlsx'  # 238 energy dependent data - must contain same isotopes as 235\n",
    "gef235Dir = '../../Validation/235Watt' # Path to GEF data\n",
    "gef238Dir = '../../Validation/238Watt' # Path to GEF data\n",
    "\n",
    "f235 = 0.976920226563       # fraction of fissions caused by 235 - f_235+f_238 should equal 1\n",
    "f238 = 0.0225349637393  # fraction of fissions caused by 238 - f_235+f_238 should equal 1\n",
    "#---------------------------------------------------------------------------------------#  "
   ]
  },
  {
   "cell_type": "code",
   "execution_count": 4,
   "metadata": {},
   "outputs": [
    {
     "name": "stdout",
     "output_type": "stream",
     "text": [
      "{97: 5.7321644790991284, 99: 5.6457635034788316, 133: 6.3834161362530066, 161: 0.0010790371615357198, 140: 5.6842336722614686, 141: 5.4727031139368734, 111: 0.26405449483673388, 115: 0.26431775916676636, 113: 0.18790081000415867, 147: 2.1117247468846134, 151: 0.47250296097435707, 153: 0.17663559923480682, 156: 0.026941196956127279, 95: 6.1517512054802417} {97: 0.091867072660467911, 99: 0.090159382676315819, 133: 0.13435263172529863, 161: 4.5479257271362311e-05, 140: 0.069603562886220244, 141: 0.099337442469776813, 111: 0.0069196031114892092, 115: 0.011721290449753652, 113: 0.01151184198710151, 147: 0.032774564512270669, 151: 0.016908489687956312, 153: 0.0077704402344916735, 156: 0.00093374597829739181, 95: 0.091349610716997515}\n"
     ]
    }
   ],
   "source": [
    "### Nagy Based Predictions ###\n",
    "\n",
    "# Read in the energy bin structure\n",
    "(lower_bins,upper_bins,bins)=Read_E_Bins(binsName)\n",
    "\n",
    "# Calculate 235 data\n",
    "(fiss_235_e,fiss_235)=Read_Fission_Spectrum(fiss235Name)\n",
    "y_235, err_235=Build_Nagy_Weighted_FPs(fp235Name,bins,f235,fiss_235)\n",
    "\n",
    "# Calculate 235 data\n",
    "(fiss_238_e,fiss_238)=Read_Fission_Spectrum(fiss238Name)\n",
    "y_238, err_238=Build_Nagy_Weighted_FPs(fp238Name,bins,f238,fiss_238)\n",
    "\n",
    "# Combine the data into a single data set\n",
    "y = {}\n",
    "err = {}\n",
    "absErr = {}\n",
    "out = []\n",
    "for A in y_235.keys():\n",
    "    y[A]=y_235[A]+y_238[A]\n",
    "    err[A]=sqrt(err_235[A]**2+err_238[A]**2)\n",
    "    absErr[A]=err[A]*y[A]\n",
    "    out.append((A,y[A],absErr[A]))\n",
    "\n",
    "# Output Results\n",
    "print y, absErr\n",
    "writeout(\"ETA_Nagy_fy.csv\",sorted(out,key=lambda l:l[0]))"
   ]
  },
  {
   "cell_type": "code",
   "execution_count": 5,
   "metadata": {},
   "outputs": [
    {
     "name": "stdout",
     "output_type": "stream",
     "text": [
      "defaultdict(<type 'list'>, {97: 5.6991902456724617, 99: 5.5294806467283788, 133: 6.3636045019618726, 161: 0.0012593323879698272, 140: 5.6589784650358261, 141: 5.7190188157666473, 111: 0.26452237170147558, 115: 0.25462022906797366, 113: 0.2065683115379926, 147: 2.151837841132616, 151: 0.43180661108312535, 153: 0.1769282676051559, 156: 0.029618639000638557, 95: 6.1960554573677165})\n"
     ]
    }
   ],
   "source": [
    "### Spline Based Predictions ###\n",
    "\n",
    "# Read in the energy bin structure\n",
    "(lower_bins,upper_bins,bins)=Read_E_Bins(binsName)\n",
    "\n",
    "# Calculate 235 data\n",
    "(fiss_235_e,fiss_235)=Read_Fission_Spectrum(fiss235Name)\n",
    "y_235=Build_Spline_Weighted_FPs(fp235Name,bins,f235,fiss_235)\n",
    "\n",
    "# Calculate 235 data\n",
    "(fiss_238_e,fiss_238)=Read_Fission_Spectrum(fiss238Name)\n",
    "y_238=Build_Spline_Weighted_FPs(fp238Name,bins,f238,fiss_238)\n",
    "\n",
    "# Combine the data into a single data set\n",
    "y=defaultdict(list)\n",
    "out=[]\n",
    "for A in y_235.keys():\n",
    "    y[A]=np.sum(np.asarray(y_235[A])+np.asarray(y_238[A]))\n",
    "    out.append((A,y[A],0.0))\n",
    "print y\n",
    "\n",
    "# Output Results\n",
    "writeout(\"ETA_Spline_fy.csv\",sorted(out,key=lambda l:l[0]))"
   ]
  },
  {
   "cell_type": "code",
   "execution_count": 5,
   "metadata": {
    "scrolled": false
   },
   "outputs": [
    {
     "name": "stdout",
     "output_type": "stream",
     "text": [
      "WARNING: Normailzed weights are not used.  The sum of the weights is 0.976920226563.\n",
      "\n",
      "\n",
      "WARNING: Not all of the files from ../../Validation/235Watt were imported.\n",
      "\n",
      "\n",
      "47 46 46\n",
      "WARNING: Normailzed weights are not used.  The sum of the weights is 0.0225349637393.\n",
      "Key error: 58 not found for both isotopes.\n",
      "Key error: 54 not found for both isotopes.\n",
      "Key error: 52 not found for both isotopes.\n",
      "Key error: 180 not found for both isotopes.\n",
      "Key error: 181 not found for both isotopes.\n"
     ]
    }
   ],
   "source": [
    "### GEF Based Predictions ###\n",
    "\n",
    "# Read in the energy bin structure\n",
    "(lower_bins,upper_bins,bins)=Read_E_Bins(binsName)\n",
    "\n",
    "# Calculate 235 data\n",
    "y_235={}\n",
    "err_235={}\n",
    "absErr={}\n",
    "(y_235,err_235)=Build_GEF_Weighted_FPs(bins,f235*fiss_235,gef235Dir)\n",
    "\n",
    "# Calculate 238 data\n",
    "y_238={}\n",
    "err_238={}\n",
    "(y_238,err_238)=Build_GEF_Weighted_FPs(bins,f238*fiss_238,gef238Dir)\n",
    "\n",
    "# Combine data into a single data set\n",
    "y={}\n",
    "err={}\n",
    "out=[]\n",
    "for A in y_235.keys():\n",
    "    try:\n",
    "        y[A]=y_235[A]+y_238[A]\n",
    "        err[A]=sqrt(err_235[A]**2+err_238[A]**2)\n",
    "        absErr[A]=y[A]*err[A]\n",
    "        out.append((A,y[A],err[A],absErr[A]))\n",
    "    except KeyError as e:\n",
    "        print \"Key error: {0} not found for both isotopes.\".format(A)\n",
    "\n",
    "# Output Results\n",
    "writeout(\"ETA_GEF_fy.csv\",sorted(out,key=lambda l:l[0]))"
   ]
  },
  {
   "cell_type": "code",
   "execution_count": null,
   "metadata": {
    "collapsed": true
   },
   "outputs": [],
   "source": []
  }
 ],
 "metadata": {
  "kernelspec": {
   "display_name": "Python 2",
   "language": "python",
   "name": "python2"
  },
  "language_info": {
   "codemirror_mode": {
    "name": "ipython",
    "version": 2
   },
   "file_extension": ".py",
   "mimetype": "text/x-python",
   "name": "python",
   "nbconvert_exporter": "python",
   "pygments_lexer": "ipython2",
   "version": "2.7.14"
  }
 },
 "nbformat": 4,
 "nbformat_minor": 1
}
