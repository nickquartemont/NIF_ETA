{
 "cells": [
  {
   "cell_type": "code",
   "execution_count": 20,
   "metadata": {
    "collapsed": true
   },
   "outputs": [],
   "source": [
    "import os\n",
    "\n",
    "import numpy as np\n",
    "\n",
    "from scipy.optimize import minimize, fsolve"
   ]
  },
  {
   "cell_type": "code",
   "execution_count": 53,
   "metadata": {
    "collapsed": false
   },
   "outputs": [],
   "source": [
    "# User Inputs\n",
    "#---------------------------------------------------------------------------------------#\n",
    "FP_data_filename='Exp_FP_Data.csv'   # List of A,Z,y of measured fission products\n",
    "U235f_filename=os.path.abspath(os.path.join(os.path.abspath(os.getcwd()), os.pardir))+'/Validation/U235f/Data/u235f_endf_cum_fy.csv'\n",
    "U235h_filename=os.path.abspath(os.path.join(os.path.abspath(os.getcwd()), os.pardir))+'/Validation/U235h/Data/u235h_endf_cum_fy.csv'\n",
    "U238f_filename=os.path.abspath(os.path.join(os.path.abspath(os.getcwd()), os.pardir))+'/Validation/U238f/Data/u238f_endf_cum_fy.csv'\n",
    "U238h_filename=os.path.abspath(os.path.join(os.path.abspath(os.getcwd()), os.pardir))+'/Validation/U238h/Data/u238h_endf_cum_fy.csv'\n",
    "#---------------------------------------------------------------------------------------#  "
   ]
  },
  {
   "cell_type": "code",
   "execution_count": 60,
   "metadata": {
    "collapsed": false
   },
   "outputs": [
    {
     "name": "stdout",
     "output_type": "stream",
     "text": [
      "[[  6.43197000e+00   6.43197000e-02   5.17353000e+00   1.44859000e-01\n",
      "    5.14049000e+00   7.19669000e-02   4.89182000e+00   9.78364000e-02]\n",
      " [  6.00025000e+00   8.40035000e-02   5.14140000e+00   1.43959000e-01\n",
      "    5.56226000e+00   7.78717000e-02   5.27609000e+00   7.38652000e-02]\n",
      " [  5.94313000e+00   8.32039000e-02   5.13560000e+00   1.43797000e-01\n",
      "    6.16825000e+00   8.63555000e-02   5.70540000e+00   7.98757000e-02]\n",
      " [  4.24496000e-02   1.18859000e-03   1.07605000e+00   3.01294000e-02\n",
      "    7.10025000e-02   1.42000000e-03   9.89295000e-01   2.77003000e-02]\n",
      " [  2.93477000e-02   3.22825000e-03   9.78732000e-01   1.07661000e-01\n",
      "    4.15003000e-02   9.55000000e-03   8.22706000e-01   4.93623000e-02]\n",
      " [  3.10767000e-02   8.70148000e-04   1.09154000e+00   2.54188000e-02\n",
      "    3.44372000e-02   6.89000000e-04   8.57043000e-01   3.14446000e-02]\n",
      " [  6.71794000e+00   4.29948000e+00   5.35629000e+00   3.42803000e+00\n",
      "    6.75940000e+00   4.32601000e+00   5.99990000e+00   3.83993000e+00]\n",
      " [  5.97773000e+00   5.97773000e-02   4.49490000e+00   1.25857000e-01\n",
      "    5.81523000e+00   4.07066000e-02   4.60703000e+00   6.44984000e-02]\n",
      " [  5.94908000e+00   1.66574000e-01   4.48552000e+00   2.69131000e-01\n",
      "    5.33654000e+00   1.49423000e-01   4.38155000e+00   8.76310000e-02]\n",
      " [  2.13887000e+00   2.13887000e-02   1.62316000e+00   4.54484000e-02\n",
      "    2.59274000e+00   3.62983000e-02   2.09115000e+00   4.18230000e-02]\n",
      " [  4.11986000e-01   2.88391000e-03   3.57476000e-01   5.71962000e-02\n",
      "    7.99402000e-01   1.59880000e-02   8.01472000e-01   3.20589000e-02]\n",
      " [  1.67055000e-01   6.68218000e-03   2.03537000e-01   3.25659000e-02\n",
      "    4.14790000e-01   8.30000000e-03   3.91923000e-01   3.13538000e-02]\n",
      " [  2.02588000e-02   4.05176000e-04   5.78474000e-02   1.62000000e-03\n",
      "    7.60335000e-02   1.52000000e-03   1.14368000e-01   3.20000000e-03]]\n"
     ]
    }
   ],
   "source": [
    "# Read Data\n",
    "exp_data = np.loadtxt(open(FP_data_filename,\"r\"),delimiter=\",\")\n",
    "A_exp=exp_data[:,0]\n",
    "Z_exp=exp_data[:,1]\n",
    "fy_exp=exp_data[:,2]\n",
    "err_exp=exp_data[:,3]\n",
    "\n",
    "fy_data=np.zeros((len(A_exp),8))  # [y_U235f,err,y_U235h,err,y_U238f,err,y_U238h,err]\n",
    "\n",
    "# U235f Data\n",
    "U235f_data = np.loadtxt(open(U235f_filename,\"r\"),delimiter=\",\")\n",
    "Z=U235f_data[:,0]\n",
    "A=U235f_data[:,1]\n",
    "isomer=U235f_data[:,2]\n",
    "y=U235f_data[:,3]*100\n",
    "err=U235f_data[:,4]*100\n",
    "\n",
    "for i in range(0,len(A)):\n",
    "    if len(np.where(A_exp==A[i])[0])>0:\n",
    "        ind=np.where(A_exp==A[i])[0][0]\n",
    "        if A[i]==A_exp[ind] and Z[i]==Z_exp[ind] and isomer[i] == 0:\n",
    "            fy_data[ind,0]=y[i]\n",
    "            fy_data[ind,1]=err[i]\n",
    "\n",
    "# U235h Data\n",
    "U235h_data = np.loadtxt(open(U235h_filename,\"r\"),delimiter=\",\")\n",
    "Z=U235h_data[:,0]\n",
    "A=U235h_data[:,1]\n",
    "isomer=U235h_data[:,2]\n",
    "y=U235h_data[:,3]*100\n",
    "err=U235h_data[:,4]*100\n",
    "\n",
    "for i in range(0,len(A)):\n",
    "    if len(np.where(A_exp==A[i])[0])>0:\n",
    "        ind=np.where(A_exp==A[i])[0][0]\n",
    "        if A[i]==A_exp[ind] and Z[i]==Z_exp[ind] and isomer[i] == 0:\n",
    "            fy_data[ind,2]=y[i]\n",
    "            fy_data[ind,3]=err[i]\n",
    "\n",
    "# U238f Data\n",
    "U238f_data = np.loadtxt(open(U238f_filename,\"r\"),delimiter=\",\")\n",
    "Z=U238f_data[:,0]\n",
    "A=U238f_data[:,1]\n",
    "isomer=U238f_data[:,2]\n",
    "y=U238f_data[:,3]*100\n",
    "err=U238f_data[:,4]*100\n",
    "\n",
    "for i in range(0,len(A)):\n",
    "    if len(np.where(A_exp==A[i])[0])>0:\n",
    "        ind=np.where(A_exp==A[i])[0][0]\n",
    "        if A[i]==A_exp[ind] and Z[i]==Z_exp[ind] and isomer[i] == 0:\n",
    "            fy_data[ind,4]=y[i]\n",
    "            fy_data[ind,5]=err[i]\n",
    "\n",
    "# U238h Data\n",
    "U238h_data = np.loadtxt(open(U238h_filename,\"r\"),delimiter=\",\")\n",
    "Z=U238h_data[:,0]\n",
    "A=U238h_data[:,1]\n",
    "isomer=U238h_data[:,2]\n",
    "y=U238h_data[:,3]*100\n",
    "err=U238h_data[:,4]*100\n",
    "\n",
    "for i in range(0,len(A)):\n",
    "    if len(np.where(A_exp==A[i])[0])>0:\n",
    "        ind=np.where(A_exp==A[i])[0][0]\n",
    "        if A[i]==A_exp[ind] and Z[i]==Z_exp[ind] and isomer[i] == 0:\n",
    "            fy_data[ind,6]=y[i]\n",
    "            fy_data[ind,7]=err[i]\n",
    "        \n",
    "print fy_data"
   ]
  },
  {
   "cell_type": "code",
   "execution_count": 65,
   "metadata": {
    "collapsed": false
   },
   "outputs": [],
   "source": [
    "# Chi-squared minimization function for a 4 fission split\n",
    "def chisqfunc((a, b, c, d)):\n",
    "    fy_model = abs(a)*fy_data[:,0] + abs(b)*fy_data[:,2] + abs(c)*fy_data[:,4] + abs(d)*fy_data[:,6]\n",
    "    #print fy_model\n",
    "    chisq = np.sum(((fy_exp - fy_model)/err_exp)**2)\n",
    "    return chisq"
   ]
  },
  {
   "cell_type": "code",
   "execution_count": 62,
   "metadata": {
    "collapsed": false
   },
   "outputs": [
    {
     "name": "stdout",
     "output_type": "stream",
     "text": [
      "Optimization terminated successfully.\n",
      "         Current function value: 1.746019\n",
      "         Iterations: 256\n",
      "         Function evaluations: 450\n",
      "  status: 0\n",
      "    nfev: 450\n",
      " success: True\n",
      "     fun: 1.7460193485953137\n",
      "       x: array([ 0.79612904,  0.17130491,  0.00781337,  0.02219318])\n",
      " message: 'Optimization terminated successfully.'\n",
      "     nit: 256\n",
      "[ 0.79612904  0.17130491  0.00781337  0.02219318]\n",
      "[ 0.79817196  0.17174449  0.00783342  0.02225013]\n",
      "1.0\n"
     ]
    }
   ],
   "source": [
    "# Perform minimization and output results\n",
    "fs0 = np.array([0.8,0.1,0.05,0.05])\n",
    "fiss_split =  minimize(chisqfunc, fs0, method='nelder-mead', \\\n",
    "                       options={'xtol': 1e-6, 'disp': True, 'maxiter': 5000,'maxfev':10000})\n",
    "print fiss_split\n",
    "print abs(fiss_split.x)\n",
    "print abs(fiss_split.x)/np.sum(abs(fiss_split.x))\n",
    "print np.sum(abs(fiss_split.x)/np.sum(abs(fiss_split.x)))"
   ]
  },
  {
   "cell_type": "code",
   "execution_count": 64,
   "metadata": {
    "collapsed": false
   },
   "outputs": [
    {
     "name": "stdout",
     "output_type": "stream",
     "text": [
      "[ 6.17145462  5.83320363  5.80091511  0.24125587  0.21014674  0.23160961\n",
      "  6.46843241  5.69129093  5.6580456   2.05279323  0.41432511  0.18026454\n",
      "  0.02924528]\n"
     ]
    },
    {
     "data": {
      "text/plain": [
       "1.761007844961664"
      ]
     },
     "execution_count": 64,
     "metadata": {},
     "output_type": "execute_result"
    }
   ],
   "source": [
    "# Python minimize performance\n",
    "chisqfunc((0.79817196,0.17174449,0.00783342,0.02225013))"
   ]
  },
  {
   "cell_type": "code",
   "execution_count": 48,
   "metadata": {
    "collapsed": false
   },
   "outputs": [
    {
     "name": "stdout",
     "output_type": "stream",
     "text": [
      "[ 6.16086117  5.82040444  5.78623183  0.24109868  0.20959364  0.23064621\n",
      "  6.45314991  5.67575161  5.64457851  2.04629431  0.41328834  0.17923989\n",
      "  0.02918599]\n",
      "[  8.04683948e-01   1.65833339e-01   6.71850006e-06   2.94759951e-02]\n"
     ]
    }
   ],
   "source": [
    "# CS performance\n",
    "CS=(80.246817,16.537670,0.000670,2.939483)\n",
    "chisqfunc(CS)\n",
    "print CS/np.sum(CS)"
   ]
  },
  {
   "cell_type": "code",
   "execution_count": null,
   "metadata": {
    "collapsed": true
   },
   "outputs": [],
   "source": []
  }
 ],
 "metadata": {
  "kernelspec": {
   "display_name": "Python 2",
   "language": "python",
   "name": "python2"
  },
  "language_info": {
   "codemirror_mode": {
    "name": "ipython",
    "version": 2
   },
   "file_extension": ".py",
   "mimetype": "text/x-python",
   "name": "python",
   "nbconvert_exporter": "python",
   "pygments_lexer": "ipython2",
   "version": "2.7.6"
  }
 },
 "nbformat": 4,
 "nbformat_minor": 0
}
