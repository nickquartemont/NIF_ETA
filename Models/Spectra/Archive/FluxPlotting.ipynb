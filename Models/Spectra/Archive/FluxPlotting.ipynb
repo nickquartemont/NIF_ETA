{
 "cells": [
  {
   "cell_type": "markdown",
   "metadata": {},
   "source": [
    "## Plot of NIF Objective Spectrum  SCALE results (Updated 14 April 18 Mavric Denovo)"
   ]
  },
  {
   "cell_type": "code",
   "execution_count": 1,
   "metadata": {
    "collapsed": true
   },
   "outputs": [],
   "source": [
    "import os\n",
    "import sys\n",
    "\n",
    "import pandas as pd\n",
    "\n",
    "import matplotlib\n",
    "matplotlib.use('Qt5Agg')\n",
    "#%matplotlib inline\n",
    "\n",
    "# Path to PyScripts support functions \n",
    "#sys.path.insert(0,os.path.abspath('/home/pyne-user/Dropbox/UCB/Computational_Tools/Scripts/Python/DataAnalysis'))\n",
    "sys.path.insert(0,os.path.abspath('C:/Users/nickq/Documents/AFIT_Masters/PyScripts/src'))\n",
    "from Histograms import Histogram\n",
    "\n",
    "dataPath = 'PlotMavricDenovo.xlsx'\n"
   ]
  },
  {
   "cell_type": "markdown",
   "metadata": {},
   "source": [
    "## TN+PFNS Godiva and 14.1 Source Objective "
   ]
  },
  {
   "cell_type": "code",
   "execution_count": 2,
   "metadata": {},
   "outputs": [
    {
     "name": "stdout",
     "output_type": "stream",
     "text": [
      "The objective spectrum data:\n",
      "          eBins          flux         sigma\n",
      "0  4.139900e-07  2.039392e-12  3.059087e-13\n",
      "1  1.125300e-06  1.361539e-10  3.656977e-11\n",
      "2  3.059000e-06  3.480964e-09  2.469708e-10\n",
      "3  1.067700e-05  1.924481e-08  1.070106e-09\n",
      "4  2.902300e-05  4.658855e-08  1.378200e-09\n",
      "5  1.013000e-04  2.885913e-07  3.056990e-09\n",
      "6  2.753600e-04  9.601070e-07  4.183258e-09\n",
      "7  5.829500e-04  2.872378e-06  6.505239e-09\n",
      "8  1.234100e-03  9.083840e-06  1.108452e-08\n",
      "9  3.354600e-03  5.904233e-05  2.584746e-08\n"
     ]
    }
   ],
   "source": [
    "objData = pd.read_excel(dataPath, \"MCNP Godiva\", skiprows=1, header=0,\n",
    "                        parse_cols=[0, 1,3])\n",
    "objData.columns = ['eBins', 'flux', 'sigma']\n",
    "print \"The objective spectrum data:\\n\", objData.head(10)\n",
    "\n",
    "objHisto=Histogram()\n",
    "objHisto.build_histo(objData['eBins'].tolist(), objData['flux'].tolist(), \n",
    "                         uncert=objData['sigma'].tolist(), edgeLoc='up',\n",
    "                         name='\\\\textbf{Objective TN+PFNS}')"
   ]
  },
  {
   "cell_type": "markdown",
   "metadata": {},
   "source": [
    "## Get the ETA Spectrum"
   ]
  },
  {
   "cell_type": "code",
   "execution_count": 3,
   "metadata": {
    "scrolled": true
   },
   "outputs": [
    {
     "name": "stdout",
     "output_type": "stream",
     "text": [
      "The ETA Spectrum - Scale:\n",
      "      eBins          flux         sigma\n",
      "0  0.000001  0.000000e+00  0.000000e+00\n",
      "1  0.000003  0.000000e+00  0.000000e+00\n",
      "2  0.000011  0.000000e+00  0.000000e+00\n",
      "3  0.000029  0.000000e+00  0.000000e+00\n",
      "4  0.000101  8.226051e-08  4.821886e-08\n",
      "5  0.000275  6.927081e-07  3.508761e-07\n",
      "6  0.000583  2.590352e-06  8.688930e-07\n",
      "7  0.001230  1.407702e-05  3.382624e-06\n",
      "8  0.003350  1.188272e-04  6.232869e-06\n",
      "9  0.010300  1.087042e-03  1.994568e-05\n"
     ]
    }
   ],
   "source": [
    "etaData = pd.read_excel(dataPath, \"SCALE Mavric Denovo\", skiprows=2, header=0,\n",
    "                        parse_cols=[9,10,11])\n",
    "etaData.columns = ['eBins', 'flux', 'sigma']\n",
    "print \"The ETA Spectrum - Scale:\\n\", etaData.head(10)\n",
    "\n",
    "etaHisto=Histogram()\n",
    "etaHisto.build_histo(etaData['eBins'].tolist(), etaData['flux'].tolist(), \n",
    "                     uncert=etaData['sigma'].tolist(), edgeLoc='up',\n",
    "                     name='\\\\textbf{ETA - MAVRIC}')"
   ]
  },
  {
   "cell_type": "markdown",
   "metadata": {},
   "source": [
    "## Generate Plots"
   ]
  },
  {
   "cell_type": "code",
   "execution_count": 4,
   "metadata": {
    "collapsed": true
   },
   "outputs": [],
   "source": [
    "# Objective vs ETA\n",
    "plt=objHisto.plot(etaHisto,xMin=1E-6, yMin=1E-8, logX=True, logY=True, legendLoc=4, includeMarkers=False,\n",
    "              xLabel='\\\\textbf{Energy [MeV]}', yLabel='\\\\textbf{Normalized Flux [n cm$^{-2}$ s$^{-1}$]}',savePath='MavricPlot')\n",
    "\n",
    "\n"
   ]
  },
  {
   "cell_type": "code",
   "execution_count": 16,
   "metadata": {
    "scrolled": true
   },
   "outputs": [
    {
     "name": "stdout",
     "output_type": "stream",
     "text": [
      "The objective spectrum data:\n",
      "          eBins      flux         sigma\n",
      "0  4.139900e-07  0.000005  7.389278e-07\n",
      "1  1.125300e-06  0.000191  5.141186e-05\n",
      "2  3.059000e-06  0.001800  1.277193e-04\n",
      "3  1.067700e-05  0.002526  1.404707e-04\n",
      "4  2.902300e-05  0.002539  7.512267e-05\n",
      "5  1.013000e-04  0.003993  4.229547e-05\n",
      "6  2.753600e-04  0.005516  2.403342e-05\n",
      "7  5.829500e-04  0.009338  2.114906e-05\n",
      "8  1.234100e-03  0.013950  1.702299e-05\n",
      "9  3.354600e-03  0.027844  1.218932e-05\n",
      "The ETA Spectrum - Scale:\n",
      "        eBins          flux     sigma\n",
      "0    0.000001  1.000000e-16  0.000000\n",
      "1    0.000003  1.000000e-16  0.000000\n",
      "2    0.000011  1.000000e-16  0.000000\n",
      "3    0.000029  1.000000e-16  0.000000\n",
      "4    0.000101  1.142507e-03  0.000670\n",
      "5    0.000275  3.981081e-03  0.002017\n",
      "6    0.000583  8.410235e-03  0.002821\n",
      "7    0.001230  2.175737e-02  0.005228\n",
      "8    0.003350  5.605058e-02  0.002940\n",
      "9    0.010300  1.564089e-01  0.002870\n",
      "10   0.021900  2.821553e-01  0.002979\n",
      "11   0.024800  3.331322e-01  0.005420\n",
      "12   0.034300  4.542356e-01  0.003342\n",
      "13   0.052500  3.437009e-01  0.002196\n",
      "14   0.111000  4.874215e-01  0.001575\n",
      "15   0.158000  5.656059e-01  0.002046\n",
      "16   0.247000  5.086826e-01  0.001322\n",
      "17   0.369000  5.213196e-01  0.001297\n",
      "18   0.550000  4.710860e-01  0.001047\n",
      "19   0.639000  4.460050e-01  0.001472\n",
      "20   0.743000  4.287769e-01  0.001486\n",
      "21   0.821000  3.951860e-01  0.001369\n",
      "22   0.962000  3.699862e-01  0.001134\n",
      "23   1.110000  3.214006e-01  0.001179\n",
      "24   1.420000  2.460747e-01  0.000737\n",
      "25   1.830000  1.838141e-01  0.000531\n",
      "26   2.310000  1.250889e-01  0.000386\n",
      "27   2.390000  9.875948e-02  0.000818\n",
      "28   3.010000  7.217845e-02  0.000262\n",
      "29   4.070000  3.727459e-02  0.000143\n",
      "30   4.720000  2.125538e-02  0.000158\n",
      "31   4.970000  1.608464e-02  0.000179\n",
      "32   6.380000  1.158401e-02  0.000069\n",
      "33   7.410000  8.204372e-03  0.000070\n",
      "34   8.190000  5.755770e-03  0.000112\n",
      "35   9.050000  4.611673e-03  0.000065\n",
      "36  10.000000  4.309003e-03  0.000045\n",
      "37  11.100000  5.010475e-03  0.000047\n",
      "38  12.200000  2.697615e-03  0.000041\n",
      "39  12.500000  2.372742e-03  0.000084\n",
      "40  13.800000  2.889030e-02  0.000137\n",
      "41  14.200000  1.700406e-01  0.000586\n",
      "42  14.900000  6.502094e-02  0.000277\n",
      "43  16.900000  2.903297e-04  0.000011\n",
      "44  19.600000  0.000000e+00  0.000000\n"
     ]
    }
   ],
   "source": [
    "# Differential \n",
    "objData = pd.read_excel(dataPath, \"MCNP Godiva\", skiprows=1, header=0,\n",
    "                        parse_cols=[0, 4,5])\n",
    "objData.columns = ['eBins', 'flux', 'sigma']\n",
    "print \"The objective spectrum data:\\n\", objData.head(10)\n",
    "\n",
    "objHisto=Histogram()\n",
    "objHisto.build_histo(objData['eBins'].tolist(), objData['flux'].tolist(), \n",
    "                         uncert=objData['sigma'].tolist(), edgeLoc='up',\n",
    "                         name='\\\\textbf{Objective TN+PFNS}')\n",
    "\n",
    "etaData = pd.read_excel(dataPath, \"SCALE Mavric Denovo\", skiprows=2, header=0,\n",
    "                        parse_cols=[9,12,13])\n",
    "etaData.columns = ['eBins', 'flux', 'sigma']\n",
    "print \"The ETA Spectrum - Scale:\\n\", etaData\n",
    "\n",
    "etaHisto=Histogram()\n",
    "etaHisto.build_histo(etaData['eBins'].tolist(), etaData['flux'].tolist(), \n",
    "                     uncert=etaData['sigma'].tolist(), edgeLoc='up',\n",
    "                     name='\\\\textbf{ETA - MAVRIC}')\n",
    "\n",
    "# Objective vs ETA\n",
    "plt=objHisto.plot(etaHisto,xMin=1E-6, yMin=1E-3,yMax=1.0, logX=True, logY=True, legendLoc=2, includeMarkers=False,\n",
    "              xLabel='\\\\textbf{Energy [MeV]}', yLabel='\\\\textbf{Differential Flux [n cm$^{-2}$ MeV$^{-1}$ s$^{-1}$]}',savePath='MavricPloDiff')\n",
    "\n",
    "\n"
   ]
  },
  {
   "cell_type": "markdown",
   "metadata": {},
   "source": [
    "## Get EM-1 Data"
   ]
  },
  {
   "cell_type": "code",
   "execution_count": 15,
   "metadata": {
    "collapsed": true
   },
   "outputs": [],
   "source": [
    "dataPath2 = 'EM1_Spectrums.xlsx'"
   ]
  },
  {
   "cell_type": "code",
   "execution_count": null,
   "metadata": {
    "collapsed": true
   },
   "outputs": [],
   "source": [
    "unboostData = pd.read_excel(dataPath2, \"Neutron Sources\", skiprows=5, header=0,\n",
    "                        parse_cols=[0, 6])\n",
    "unboostData.columns = ['eBins', 'flux']\n",
    "print \"The unboosted spectrum data:\\n\", unboostData.head(10)\n",
    "\n",
    "unboostHisto=Histogram()\n",
    "unboostHisto.build_histo(unboostData['eBins'].tolist(), unboostData['flux'].tolist(), \n",
    "                         edgeLoc='up',\n",
    "                         name='\\\\textbf{EM-1 Unboosted}')\n",
    "boostData = pd.read_excel(dataPath2, \"Neutron Sources\", skiprows=5, header=0,\n",
    "                        parse_cols=[0, 7])\n",
    "boostData.columns = ['eBins', 'flux']\n",
    "print \"The boosted spectrum data:\\n\", boostData.head(10)\n",
    "\n",
    "boostHisto=Histogram()\n",
    "boostHisto.build_histo(boostData['eBins'].tolist(), boostData['flux'].tolist(), \n",
    "                         edgeLoc='up',\n",
    "                         name='\\\\textbf{EM-1 Boosted}')"
   ]
  },
  {
   "cell_type": "code",
   "execution_count": null,
   "metadata": {
    "collapsed": true
   },
   "outputs": [],
   "source": [
    "plt=boostHisto.plot(unboostHisto,xMin=1E-5, yMin=1E-8, logX=True, logY=True, legendLoc=4,\n",
    "              xLabel='\\\\textbf{Energy [MeV]}', yLabel='\\\\textbf{Normalized Flux [n cm$^{-2}$ s$^{-1}$]}',savePath='EM1')\n"
   ]
  },
  {
   "cell_type": "code",
   "execution_count": null,
   "metadata": {
    "collapsed": true
   },
   "outputs": [],
   "source": []
  }
 ],
 "metadata": {
  "kernelspec": {
   "display_name": "Python 2",
   "language": "python",
   "name": "python2"
  },
  "language_info": {
   "codemirror_mode": {
    "name": "ipython",
    "version": 2
   },
   "file_extension": ".py",
   "mimetype": "text/x-python",
   "name": "python",
   "nbconvert_exporter": "python",
   "pygments_lexer": "ipython2",
   "version": "2.7.14"
  }
 },
 "nbformat": 4,
 "nbformat_minor": 1
}
