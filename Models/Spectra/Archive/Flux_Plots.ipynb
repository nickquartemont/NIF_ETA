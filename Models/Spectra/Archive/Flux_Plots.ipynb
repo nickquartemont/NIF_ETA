{
 "cells": [
  {
   "cell_type": "markdown",
   "metadata": {},
   "source": [
    "## Plot of NIF Objective Spectrum  SCALE results (Updated 14 April 18 Mavric Denovo)- This one stopped working (?). Use  FluxPlotting.ipynb"
   ]
  },
  {
   "cell_type": "code",
   "execution_count": 1,
   "metadata": {
    "collapsed": true
   },
   "outputs": [],
   "source": [
    "import os\n",
    "import sys\n",
    "import pandas as pd\n",
    "import matplotlib\n",
    "matplotlib.use('Qt5Agg')\n",
    "#%matplotlib inline\n",
    "\n",
    "# Support Functions path. Adopted from https://github.com/jamesbevins/PyScripts\n",
    "# Note the forward slash for Windows in the path\n",
    "sys.path.insert(0,os.path.abspath('C:/Users/nickq/Documents/AFIT_Masters/PyScripts/src'))\n",
    "from Histograms import Histogram\n",
    "\n",
    "data = 'PlotsUpdatedMavric.xlsx'\n"
   ]
  },
  {
   "cell_type": "markdown",
   "metadata": {},
   "source": [
    "## TN+PFNS Godiva and 14.1 Source Objective "
   ]
  },
  {
   "cell_type": "code",
   "execution_count": 2,
   "metadata": {},
   "outputs": [
    {
     "name": "stdout",
     "output_type": "stream",
     "text": [
      "The objective spectrum:\n",
      "          eBins          flux         sigma\n",
      "0  4.139900e-07  2.039392e-12  3.059087e-13\n",
      "1  1.125300e-06  1.361539e-10  3.656977e-11\n",
      "2  3.059000e-06  3.480964e-09  2.469708e-10\n",
      "3  1.067700e-05  1.924481e-08  1.070106e-09\n",
      "4  2.902300e-05  4.658855e-08  1.378200e-09\n",
      "5  1.013000e-04  2.885913e-07  3.056990e-09\n",
      "6  2.753600e-04  9.601070e-07  4.183258e-09\n",
      "7  5.829500e-04  2.872378e-06  6.505239e-09\n",
      "8  1.234100e-03  9.083840e-06  1.108452e-08\n",
      "9  3.354600e-03  5.904233e-05  2.584746e-08\n"
     ]
    }
   ],
   "source": [
    "objData = pd.read_excel(data, \"MCNP Godiva\", skiprows=1, header=0,\n",
    "                     parse_cols=[0,1,3])\n",
    "objData.columns = ['eBins', 'flux', 'sigma']\n",
    "print \"The objective spectrum:\\n\", objData.head(10)\n",
    "\n",
    "objHisto=Histogram()\n",
    "objHisto.build_histo(objData['eBins'].tolist(), objData['flux'].tolist(), \n",
    "                         uncert=objData['sigma'].tolist(), edgeLoc='up',\n",
    "                         name='\\\\textbf{Objective TN+PFNS}')"
   ]
  },
  {
   "cell_type": "markdown",
   "metadata": {},
   "source": [
    "## SCALE Mavric Updated Results 14 April 2018"
   ]
  },
  {
   "cell_type": "code",
   "execution_count": 3,
   "metadata": {},
   "outputs": [
    {
     "name": "stdout",
     "output_type": "stream",
     "text": [
      "The Mavric spectrum data:\n",
      "      eBins      flux     sigma\n",
      "0  0.000001  0.000000  0.000000\n",
      "1  0.000003  0.000000  0.000000\n",
      "2  0.000011  0.000000  0.000000\n",
      "3  0.000029  0.000000  0.000000\n",
      "4  0.000101  0.000000  0.000000\n",
      "5  0.000275  0.000004  0.000003\n",
      "6  0.000583  0.000009  0.000008\n",
      "7  0.001230  0.000006  0.000003\n",
      "8  0.003350  0.000129  0.000024\n",
      "9  0.010300  0.001015  0.000060\n"
     ]
    }
   ],
   "source": [
    "MavricData = pd.read_excel(data, \"Scale Updated Mavric\", skiprows=2, header=0,\n",
    "                     parse_cols=[9,10,11])\n",
    "MavricData.columns = ['eBins', 'flux', 'sigma']\n",
    "print \"The Mavric spectrum data:\\n\", MavricData.head(10)\n",
    "\n",
    "MavricHisto=Histogram()\n",
    "MavricHisto.build_histo(MavricData['eBins'].tolist(), MavricData['flux'].tolist(), \n",
    "                         uncert=MavricData['sigma'].tolist(), edgeLoc='up',\n",
    "                         name='\\\\textbf{ETA - SCALE}')"
   ]
  },
  {
   "cell_type": "markdown",
   "metadata": {},
   "source": [
    "## Generate Plots"
   ]
  },
  {
   "cell_type": "code",
   "execution_count": 4,
   "metadata": {
    "collapsed": true
   },
   "outputs": [],
   "source": [
    "objHisto.plot(xMin=1E-6, yMin=1E-8, logX=True, logY=True, legendLoc=4,\n",
    "              xLabel='\\\\textbf{Energy [MeV]}', yLabel='\\\\textbf{Normalized Flux [n cm$^{-2}$ s$^{-1}$]}')"
   ]
  },
  {
   "cell_type": "markdown",
   "metadata": {},
   "source": [
    "## EM1 Sources "
   ]
  },
  {
   "cell_type": "code",
   "execution_count": null,
   "metadata": {
    "collapsed": true
   },
   "outputs": [],
   "source": [
    "EM1Boosted = pd.read_excel(dataEM1, \"Neutron Sources\", skiprows=5, header=0, parse_cols=[0,7,10])\n",
    "EM1UnBoosted = pd.read_excel(dataEM1, \"Neutron Sources\", skiprows=5, header=0,\n",
    "                     parse_cols=[0,6,10])\n",
    "EM1Boosted.columns = ['eBins', 'flux', 'sigma']\n",
    "\n",
    "EM1UnBoosted.columns = ['eBins', 'flux', 'sigma']\n",
    "print \"The Boosted data:\\n\", EM1Boosted.head(100)\n",
    "print \"The Unboosted data:\\n\", EM1UnBoosted.head(100)\n",
    "EM1BoostedHisto=Histogram()\n",
    "EM1UnBoostedHisto=Histogram()\n",
    "\n",
    "EM1BoostedHisto.build_histo(EM1Boosted['eBins'].tolist(),EM1Boosted['flux'].tolist(), \n",
    "                         uncert=EM1Boosted['sigma'].tolist(), edgeLoc='up',\n",
    "                         name='\\\\textbf{EM-1 Boosted}')\n",
    "EM1UnBoostedHisto.build_histo(EM1UnBoosted['eBins'].tolist(), EM1UnBoosted['flux'].tolist(), \n",
    "                         uncert=EM1UnBoosted['sigma'].tolist(), edgeLoc='up',\n",
    "                         name='\\\\textbf{EM-1 Unboosted}')\n"
   ]
  },
  {
   "cell_type": "markdown",
   "metadata": {
    "collapsed": true
   },
   "source": [
    "## Plot of EM-1 Data"
   ]
  },
  {
   "cell_type": "code",
   "execution_count": null,
   "metadata": {
    "collapsed": true
   },
   "outputs": [],
   "source": [
    "EM1BoostedHisto.plot(EM1UnBoostedHisto,xMin=1E-5, yMin=1E-5, logX=True, logY=True, legendLoc=4,\n",
    "                  xLabel='\\\\textbf{Energy [MeV]}',\n",
    "                  yLabel='\\\\textbf{Normalized Differential Flux [n cm$^{-2}$ s$^{-1}$ MeV$^{-1}$]}')"
   ]
  },
  {
   "cell_type": "markdown",
   "metadata": {},
   "source": [
    "## 14.1 MeV neutrons in Lead"
   ]
  },
  {
   "cell_type": "code",
   "execution_count": null,
   "metadata": {
    "collapsed": true
   },
   "outputs": [],
   "source": [
    "sigma=5 # barns \n",
    "N=11.3*6.022*10**23/208\n",
    "Sigma=N*sigma*10**-24\n",
    "MFP=1/Sigma\n",
    "print MFP"
   ]
  },
  {
   "cell_type": "markdown",
   "metadata": {},
   "source": []
  },
  {
   "cell_type": "code",
   "execution_count": null,
   "metadata": {
    "collapsed": true
   },
   "outputs": [],
   "source": []
  },
  {
   "cell_type": "code",
   "execution_count": null,
   "metadata": {
    "collapsed": true
   },
   "outputs": [],
   "source": []
  }
 ],
 "metadata": {
  "kernelspec": {
   "display_name": "Python 2",
   "language": "python",
   "name": "python2"
  },
  "language_info": {
   "codemirror_mode": {
    "name": "ipython",
    "version": 2
   },
   "file_extension": ".py",
   "mimetype": "text/x-python",
   "name": "python",
   "nbconvert_exporter": "python",
   "pygments_lexer": "ipython2",
   "version": "2.7.14"
  }
 },
 "nbformat": 4,
 "nbformat_minor": 1
}
