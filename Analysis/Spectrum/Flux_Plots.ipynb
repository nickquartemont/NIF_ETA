{
 "cells": [
  {
   "cell_type": "markdown",
   "metadata": {},
   "source": [
    "## Plot of NIF Objective Spectrum  SCALE results (Updated Mavric)"
   ]
  },
  {
   "cell_type": "code",
   "execution_count": 13,
   "metadata": {},
   "outputs": [],
   "source": [
    "import os\n",
    "import sys\n",
    "import pandas as pd\n",
    "import matplotlib\n",
    "matplotlib.use('Qt5Agg')\n",
    "#%matplotlib inline\n",
    "\n",
    "# Support Functions path. Adopted from https://github.com/jamesbevins/PyScripts\n",
    "# Note the forward slash for Windows in the path\n",
    "sys.path.insert(0,os.path.abspath('C:/Users/nickq/Documents/AFIT_Masters/PyScripts/src'))\n",
    "from Histograms import Histogram\n",
    "\n",
    "data = 'PlotsUpdatedMavric.xlsx'\n"
   ]
  },
  {
   "cell_type": "markdown",
   "metadata": {},
   "source": [
    "## TN+PFNS Godiva and 14.1 Source Objective "
   ]
  },
  {
   "cell_type": "code",
   "execution_count": 34,
   "metadata": {},
   "outputs": [
    {
     "name": "stdout",
     "output_type": "stream",
     "text": [
      "The objective spectrum data:\n",
      "        eBins          flux         sigma\n",
      "0    0.000001  1.361539e-10  3.656977e-11\n",
      "1    0.000003  3.480964e-09  2.469708e-10\n",
      "2    0.000011  1.924481e-08  1.070106e-09\n",
      "3    0.000029  4.658855e-08  1.378200e-09\n",
      "4    0.000101  2.885913e-07  3.056990e-09\n",
      "5    0.000275  9.601070e-07  4.183258e-09\n",
      "6    0.000583  2.872378e-06  6.505239e-09\n",
      "7    0.001234  9.083840e-06  1.108452e-08\n",
      "8    0.003355  5.904233e-05  2.584746e-08\n",
      "9    0.010333  5.008558e-04  8.807803e-08\n",
      "10   0.021875  1.722093e-03  1.486397e-07\n",
      "11   0.024788  5.864453e-04  5.286146e-08\n",
      "12   0.034307  2.303615e-03  1.988328e-07\n",
      "13   0.052475  5.847172e-03  8.770758e-08\n",
      "14   0.111090  2.702088e-02  0.000000e+00\n",
      "15   0.157640  2.656010e-02  0.000000e+00\n",
      "16   0.247240  5.458026e-02  0.000000e+00\n",
      "17   0.368830  7.160950e-02  0.000000e+00\n",
      "18   0.550230  9.572922e-02  0.000000e+00\n",
      "19   0.639280  4.102469e-02  0.000000e+00\n",
      "20   0.742740  4.237086e-02  0.000000e+00\n",
      "21   0.820850  2.879956e-02  0.000000e+00\n",
      "22   0.961640  4.611614e-02  0.000000e+00\n",
      "23   1.108000  4.139679e-02  0.000000e+00\n",
      "24   1.422700  7.220677e-02  0.000000e+00\n",
      "25   1.826800  7.051900e-02  0.000000e+00\n",
      "26   2.306900  6.242150e-02  0.000000e+00\n",
      "27   2.385200  8.558781e-03  0.000000e+00\n",
      "28   3.011900  5.608956e-02  0.000000e+00\n",
      "29   4.065700  5.806916e-02  0.000000e+00\n",
      "30   4.723700  2.099532e-02  0.000000e+00\n",
      "31   4.965900  5.743180e-03  8.614770e-08\n",
      "32   6.376300  2.021506e-02  0.000000e+00\n",
      "33   7.408200  6.564811e-03  0.000000e+00\n",
      "34   8.187300  2.828402e-03  2.404141e-07\n",
      "35   9.048400  2.068241e-03  1.758005e-07\n",
      "36  10.000000  1.607043e-03  1.365986e-07\n",
      "37  11.052000  1.545334e-03  1.313534e-07\n",
      "38  12.214000  1.929734e-03  3.280548e-07\n",
      "39  12.523000  5.825647e-04  2.971080e-07\n",
      "40  13.840000  2.318265e-02  7.882100e-06\n",
      "41  14.191000  6.293751e-02  5.349688e-05\n",
      "42  14.918000  3.566160e-02  2.728112e-05\n",
      "43  16.905000  3.116007e-05  2.387866e-08\n",
      "44  19.640000  2.140563e-06  3.457009e-09\n"
     ]
    }
   ],
   "source": [
    "objData = pd.read_excel(data, \"MCNP Godiva\", skiprows=2, header=0,\n",
    "                     parse_cols=[0,1,3])\n",
    "objData.columns = ['eBins', 'flux', 'sigma']\n",
    "print \"The objective spectrum data:\\n\", objData.head(100)\n",
    "\n",
    "objHisto=Histogram()\n",
    "objHisto.build_histo(objData['eBins'].tolist(), objData['flux'].tolist(), \n",
    "                         uncert=objData['sigma'].tolist(), edgeLoc='up',\n",
    "                         name='\\\\textbf{Objective TN+PFNS}')"
   ]
  },
  {
   "cell_type": "markdown",
   "metadata": {},
   "source": [
    "## SCALE Mavric Updated Results 7 April 2018"
   ]
  },
  {
   "cell_type": "code",
   "execution_count": 38,
   "metadata": {},
   "outputs": [
    {
     "name": "stdout",
     "output_type": "stream",
     "text": [
      "The Mavric spectrum data:\n",
      "        eBins      flux     sigma\n",
      "0    0.000001  0.000000  0.000000\n",
      "1    0.000003  0.000000  0.000000\n",
      "2    0.000011  0.000000  0.000000\n",
      "3    0.000029  0.000000  0.000000\n",
      "4    0.000101  0.000000  0.000000\n",
      "5    0.000275  0.000004  0.000003\n",
      "6    0.000583  0.000009  0.000008\n",
      "7    0.001230  0.000006  0.000003\n",
      "8    0.003350  0.000129  0.000024\n",
      "9    0.010300  0.001015  0.000060\n",
      "10   0.021900  0.003106  0.000105\n",
      "11   0.024800  0.000933  0.000053\n",
      "12   0.034300  0.004384  0.000142\n",
      "13   0.052500  0.006340  0.000209\n",
      "14   0.111000  0.027975  0.000393\n",
      "15   0.158000  0.026777  0.000452\n",
      "16   0.247000  0.044432  0.000544\n",
      "17   0.369000  0.062763  0.000854\n",
      "18   0.550000  0.084594  0.000752\n",
      "19   0.639000  0.039402  0.000454\n",
      "20   0.743000  0.043960  0.000473\n",
      "21   0.821000  0.030894  0.000473\n",
      "22   0.962000  0.051573  0.000587\n",
      "23   1.110000  0.046889  0.000463\n",
      "24   1.420000  0.076309  0.000773\n",
      "25   1.830000  0.076254  0.000768\n",
      "26   2.310000  0.059909  0.000609\n",
      "27   2.390000  0.008078  0.000216\n",
      "28   3.010000  0.045770  0.000505\n",
      "29   4.070000  0.040259  0.000551\n",
      "30   4.720000  0.013852  0.000250\n",
      "31   4.970000  0.004330  0.000150\n",
      "32   6.380000  0.016794  0.000318\n",
      "33   7.410000  0.008395  0.000192\n",
      "34   8.190000  0.004676  0.000161\n",
      "35   9.050000  0.004162  0.000327\n",
      "36  10.000000  0.004025  0.000114\n",
      "37  11.100000  0.005461  0.000125\n",
      "38  12.200000  0.003062  0.000103\n",
      "39  12.500000  0.000750  0.000059\n",
      "40  13.800000  0.037977  0.000278\n",
      "41  14.200000  0.067934  0.000307\n",
      "42  14.900000  0.046231  0.000240\n",
      "43  16.900000  0.000586  0.000026\n",
      "44  19.600000  0.000000  0.000000\n"
     ]
    }
   ],
   "source": [
    "MavricData = pd.read_excel(data, \"Scale Updated Mavric\", skiprows=2, header=0,\n",
    "                     parse_cols=[9,10,11])\n",
    "MavricData.columns = ['eBins', 'flux', 'sigma']\n",
    "print \"The Mavric spectrum data:\\n\", objDiffData.head(100)\n",
    "\n",
    "MavricHisto=Histogram()\n",
    "MavricHisto.build_histo(MavricData['eBins'].tolist(), MavricData['flux'].tolist(), \n",
    "                         uncert=MavricData['sigma'].tolist(), edgeLoc='up',\n",
    "                         name='\\\\textbf{ETA - SCALE}')"
   ]
  },
  {
   "cell_type": "markdown",
   "metadata": {},
   "source": [
    "## Generate Plots"
   ]
  },
  {
   "cell_type": "code",
   "execution_count": 39,
   "metadata": {},
   "outputs": [],
   "source": [
    "# Objective vs ETA Mavric Analysis\n",
    "objHisto.plot(objHisto,xMin=1E-6, yMin=1E-8, logX=True, logY=True, legendLoc=4,\n",
    "              xLabel='\\\\textbf{Energy [MeV]}', yLabel='\\\\textbf{Normalized Flux [n cm$^{-2}$ s$^{-1}$]}')\n",
    "# Objective vs ETA - Differential\n",
    "MavricHisto.plot(objHisto,xMin=1E-6, yMin=1E-8, logX=True, logY=True, legendLoc=4,\n",
    "                  xLabel='\\\\textbf{Energy [MeV]}',\n",
    "                  yLabel='\\\\textbf{Normalized Differential Flux [n cm$^{-2}$ s$^{-1}$ MeV$^{-1}$]}')"
   ]
  },
  {
   "cell_type": "code",
   "execution_count": null,
   "metadata": {
    "collapsed": true
   },
   "outputs": [],
   "source": []
  },
  {
   "cell_type": "code",
   "execution_count": null,
   "metadata": {
    "collapsed": true
   },
   "outputs": [],
   "source": []
  }
 ],
 "metadata": {
  "kernelspec": {
   "display_name": "Python 2",
   "language": "python",
   "name": "python2"
  },
  "language_info": {
   "codemirror_mode": {
    "name": "ipython",
    "version": 2
   },
   "file_extension": ".py",
   "mimetype": "text/x-python",
   "name": "python",
   "nbconvert_exporter": "python",
   "pygments_lexer": "ipython2",
   "version": "2.7.14"
  }
 },
 "nbformat": 4,
 "nbformat_minor": 1
}
